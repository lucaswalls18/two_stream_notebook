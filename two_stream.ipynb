{
  "nbformat": 4,
  "nbformat_minor": 0,
  "metadata": {
    "colab": {
      "provenance": []
    },
    "kernelspec": {
      "name": "python3",
      "display_name": "Python 3"
    },
    "language_info": {
      "name": "python"
    },
    "widgets": {
      "application/vnd.jupyter.widget-state+json": {
        "c78e7232fbe144e89fd219d7b9b0dfbd": {
          "model_module": "@jupyter-widgets/controls",
          "model_name": "VBoxModel",
          "model_module_version": "1.5.0",
          "state": {
            "_dom_classes": [
              "widget-interact"
            ],
            "_model_module": "@jupyter-widgets/controls",
            "_model_module_version": "1.5.0",
            "_model_name": "VBoxModel",
            "_view_count": null,
            "_view_module": "@jupyter-widgets/controls",
            "_view_module_version": "1.5.0",
            "_view_name": "VBoxView",
            "box_style": "",
            "children": [
              "IPY_MODEL_7eecb406be044ac589b56df6e0e57f19",
              "IPY_MODEL_1cea45b45cc441489475d706548cb8d0"
            ],
            "layout": "IPY_MODEL_8a4e9f5a8844477d813b3271d4e75d14"
          }
        },
        "7eecb406be044ac589b56df6e0e57f19": {
          "model_module": "@jupyter-widgets/controls",
          "model_name": "BoundedFloatTextModel",
          "model_module_version": "1.5.0",
          "state": {
            "_dom_classes": [],
            "_model_module": "@jupyter-widgets/controls",
            "_model_module_version": "1.5.0",
            "_model_name": "BoundedFloatTextModel",
            "_view_count": null,
            "_view_module": "@jupyter-widgets/controls",
            "_view_module_version": "1.5.0",
            "_view_name": "FloatTextView",
            "continuous_update": false,
            "description": "eps",
            "description_tooltip": null,
            "disabled": false,
            "layout": "IPY_MODEL_bcefab3526eb4b6b869e219c0655b431",
            "max": 1,
            "min": 0.1,
            "step": 0.1,
            "style": "IPY_MODEL_1ea099793322456fa9d1becbaae17c82",
            "value": 0.4
          }
        },
        "1cea45b45cc441489475d706548cb8d0": {
          "model_module": "@jupyter-widgets/output",
          "model_name": "OutputModel",
          "model_module_version": "1.0.0",
          "state": {
            "_dom_classes": [],
            "_model_module": "@jupyter-widgets/output",
            "_model_module_version": "1.0.0",
            "_model_name": "OutputModel",
            "_view_count": null,
            "_view_module": "@jupyter-widgets/output",
            "_view_module_version": "1.0.0",
            "_view_name": "OutputView",
            "layout": "IPY_MODEL_2bf4edea0fcb4a209531a89d51827a34",
            "msg_id": "",
            "outputs": [
              {
                "output_type": "display_data",
                "data": {
                  "text/plain": "<Figure size 640x480 with 1 Axes>",
                  "image/png": "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\n"
                },
                "metadata": {}
              }
            ]
          }
        },
        "8a4e9f5a8844477d813b3271d4e75d14": {
          "model_module": "@jupyter-widgets/base",
          "model_name": "LayoutModel",
          "model_module_version": "1.2.0",
          "state": {
            "_model_module": "@jupyter-widgets/base",
            "_model_module_version": "1.2.0",
            "_model_name": "LayoutModel",
            "_view_count": null,
            "_view_module": "@jupyter-widgets/base",
            "_view_module_version": "1.2.0",
            "_view_name": "LayoutView",
            "align_content": null,
            "align_items": null,
            "align_self": null,
            "border": null,
            "bottom": null,
            "display": null,
            "flex": null,
            "flex_flow": null,
            "grid_area": null,
            "grid_auto_columns": null,
            "grid_auto_flow": null,
            "grid_auto_rows": null,
            "grid_column": null,
            "grid_gap": null,
            "grid_row": null,
            "grid_template_areas": null,
            "grid_template_columns": null,
            "grid_template_rows": null,
            "height": null,
            "justify_content": null,
            "justify_items": null,
            "left": null,
            "margin": null,
            "max_height": null,
            "max_width": null,
            "min_height": null,
            "min_width": null,
            "object_fit": null,
            "object_position": null,
            "order": null,
            "overflow": null,
            "overflow_x": null,
            "overflow_y": null,
            "padding": null,
            "right": null,
            "top": null,
            "visibility": null,
            "width": null
          }
        },
        "bcefab3526eb4b6b869e219c0655b431": {
          "model_module": "@jupyter-widgets/base",
          "model_name": "LayoutModel",
          "model_module_version": "1.2.0",
          "state": {
            "_model_module": "@jupyter-widgets/base",
            "_model_module_version": "1.2.0",
            "_model_name": "LayoutModel",
            "_view_count": null,
            "_view_module": "@jupyter-widgets/base",
            "_view_module_version": "1.2.0",
            "_view_name": "LayoutView",
            "align_content": null,
            "align_items": null,
            "align_self": null,
            "border": null,
            "bottom": null,
            "display": null,
            "flex": null,
            "flex_flow": null,
            "grid_area": null,
            "grid_auto_columns": null,
            "grid_auto_flow": null,
            "grid_auto_rows": null,
            "grid_column": null,
            "grid_gap": null,
            "grid_row": null,
            "grid_template_areas": null,
            "grid_template_columns": null,
            "grid_template_rows": null,
            "height": null,
            "justify_content": null,
            "justify_items": null,
            "left": null,
            "margin": null,
            "max_height": null,
            "max_width": null,
            "min_height": null,
            "min_width": null,
            "object_fit": null,
            "object_position": null,
            "order": null,
            "overflow": null,
            "overflow_x": null,
            "overflow_y": null,
            "padding": null,
            "right": null,
            "top": null,
            "visibility": null,
            "width": null
          }
        },
        "1ea099793322456fa9d1becbaae17c82": {
          "model_module": "@jupyter-widgets/controls",
          "model_name": "DescriptionStyleModel",
          "model_module_version": "1.5.0",
          "state": {
            "_model_module": "@jupyter-widgets/controls",
            "_model_module_version": "1.5.0",
            "_model_name": "DescriptionStyleModel",
            "_view_count": null,
            "_view_module": "@jupyter-widgets/base",
            "_view_module_version": "1.2.0",
            "_view_name": "StyleView",
            "description_width": ""
          }
        },
        "2bf4edea0fcb4a209531a89d51827a34": {
          "model_module": "@jupyter-widgets/base",
          "model_name": "LayoutModel",
          "model_module_version": "1.2.0",
          "state": {
            "_model_module": "@jupyter-widgets/base",
            "_model_module_version": "1.2.0",
            "_model_name": "LayoutModel",
            "_view_count": null,
            "_view_module": "@jupyter-widgets/base",
            "_view_module_version": "1.2.0",
            "_view_name": "LayoutView",
            "align_content": null,
            "align_items": null,
            "align_self": null,
            "border": null,
            "bottom": null,
            "display": null,
            "flex": null,
            "flex_flow": null,
            "grid_area": null,
            "grid_auto_columns": null,
            "grid_auto_flow": null,
            "grid_auto_rows": null,
            "grid_column": null,
            "grid_gap": null,
            "grid_row": null,
            "grid_template_areas": null,
            "grid_template_columns": null,
            "grid_template_rows": null,
            "height": null,
            "justify_content": null,
            "justify_items": null,
            "left": null,
            "margin": null,
            "max_height": null,
            "max_width": null,
            "min_height": null,
            "min_width": null,
            "object_fit": null,
            "object_position": null,
            "order": null,
            "overflow": null,
            "overflow_x": null,
            "overflow_y": null,
            "padding": null,
            "right": null,
            "top": null,
            "visibility": null,
            "width": null
          }
        },
        "7add56f90c5449a0b32a20064c5cc72f": {
          "model_module": "@jupyter-widgets/controls",
          "model_name": "VBoxModel",
          "model_module_version": "1.5.0",
          "state": {
            "_dom_classes": [
              "widget-interact"
            ],
            "_model_module": "@jupyter-widgets/controls",
            "_model_module_version": "1.5.0",
            "_model_name": "VBoxModel",
            "_view_count": null,
            "_view_module": "@jupyter-widgets/controls",
            "_view_module_version": "1.5.0",
            "_view_name": "VBoxView",
            "box_style": "",
            "children": [
              "IPY_MODEL_63214ca7b689445ebb2c56dad3c2d2e0",
              "IPY_MODEL_33beedf04f2d40f08197e52904b7642f"
            ],
            "layout": "IPY_MODEL_8a4f2228d45f4f67b271df3040e3da5c"
          }
        },
        "63214ca7b689445ebb2c56dad3c2d2e0": {
          "model_module": "@jupyter-widgets/controls",
          "model_name": "BoundedFloatTextModel",
          "model_module_version": "1.5.0",
          "state": {
            "_dom_classes": [],
            "_model_module": "@jupyter-widgets/controls",
            "_model_module_version": "1.5.0",
            "_model_name": "BoundedFloatTextModel",
            "_view_count": null,
            "_view_module": "@jupyter-widgets/controls",
            "_view_module_version": "1.5.0",
            "_view_name": "FloatTextView",
            "continuous_update": false,
            "description": "eps",
            "description_tooltip": null,
            "disabled": false,
            "layout": "IPY_MODEL_ad93ffb5807e47c8b167364fe56cdb58",
            "max": 1,
            "min": 0.1,
            "step": 0.1,
            "style": "IPY_MODEL_d4b8420c1af94de0833fb245db5f8214",
            "value": 0.3
          }
        },
        "33beedf04f2d40f08197e52904b7642f": {
          "model_module": "@jupyter-widgets/output",
          "model_name": "OutputModel",
          "model_module_version": "1.0.0",
          "state": {
            "_dom_classes": [],
            "_model_module": "@jupyter-widgets/output",
            "_model_module_version": "1.0.0",
            "_model_name": "OutputModel",
            "_view_count": null,
            "_view_module": "@jupyter-widgets/output",
            "_view_module_version": "1.0.0",
            "_view_name": "OutputView",
            "layout": "IPY_MODEL_432eb862580e41998ced7d1f8377a605",
            "msg_id": "",
            "outputs": [
              {
                "output_type": "display_data",
                "data": {
                  "text/plain": "<Figure size 640x480 with 1 Axes>",
                  "image/png": "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\n"
                },
                "metadata": {}
              }
            ]
          }
        },
        "8a4f2228d45f4f67b271df3040e3da5c": {
          "model_module": "@jupyter-widgets/base",
          "model_name": "LayoutModel",
          "model_module_version": "1.2.0",
          "state": {
            "_model_module": "@jupyter-widgets/base",
            "_model_module_version": "1.2.0",
            "_model_name": "LayoutModel",
            "_view_count": null,
            "_view_module": "@jupyter-widgets/base",
            "_view_module_version": "1.2.0",
            "_view_name": "LayoutView",
            "align_content": null,
            "align_items": null,
            "align_self": null,
            "border": null,
            "bottom": null,
            "display": null,
            "flex": null,
            "flex_flow": null,
            "grid_area": null,
            "grid_auto_columns": null,
            "grid_auto_flow": null,
            "grid_auto_rows": null,
            "grid_column": null,
            "grid_gap": null,
            "grid_row": null,
            "grid_template_areas": null,
            "grid_template_columns": null,
            "grid_template_rows": null,
            "height": null,
            "justify_content": null,
            "justify_items": null,
            "left": null,
            "margin": null,
            "max_height": null,
            "max_width": null,
            "min_height": null,
            "min_width": null,
            "object_fit": null,
            "object_position": null,
            "order": null,
            "overflow": null,
            "overflow_x": null,
            "overflow_y": null,
            "padding": null,
            "right": null,
            "top": null,
            "visibility": null,
            "width": null
          }
        },
        "ad93ffb5807e47c8b167364fe56cdb58": {
          "model_module": "@jupyter-widgets/base",
          "model_name": "LayoutModel",
          "model_module_version": "1.2.0",
          "state": {
            "_model_module": "@jupyter-widgets/base",
            "_model_module_version": "1.2.0",
            "_model_name": "LayoutModel",
            "_view_count": null,
            "_view_module": "@jupyter-widgets/base",
            "_view_module_version": "1.2.0",
            "_view_name": "LayoutView",
            "align_content": null,
            "align_items": null,
            "align_self": null,
            "border": null,
            "bottom": null,
            "display": null,
            "flex": null,
            "flex_flow": null,
            "grid_area": null,
            "grid_auto_columns": null,
            "grid_auto_flow": null,
            "grid_auto_rows": null,
            "grid_column": null,
            "grid_gap": null,
            "grid_row": null,
            "grid_template_areas": null,
            "grid_template_columns": null,
            "grid_template_rows": null,
            "height": null,
            "justify_content": null,
            "justify_items": null,
            "left": null,
            "margin": null,
            "max_height": null,
            "max_width": null,
            "min_height": null,
            "min_width": null,
            "object_fit": null,
            "object_position": null,
            "order": null,
            "overflow": null,
            "overflow_x": null,
            "overflow_y": null,
            "padding": null,
            "right": null,
            "top": null,
            "visibility": null,
            "width": null
          }
        },
        "d4b8420c1af94de0833fb245db5f8214": {
          "model_module": "@jupyter-widgets/controls",
          "model_name": "DescriptionStyleModel",
          "model_module_version": "1.5.0",
          "state": {
            "_model_module": "@jupyter-widgets/controls",
            "_model_module_version": "1.5.0",
            "_model_name": "DescriptionStyleModel",
            "_view_count": null,
            "_view_module": "@jupyter-widgets/base",
            "_view_module_version": "1.2.0",
            "_view_name": "StyleView",
            "description_width": ""
          }
        },
        "432eb862580e41998ced7d1f8377a605": {
          "model_module": "@jupyter-widgets/base",
          "model_name": "LayoutModel",
          "model_module_version": "1.2.0",
          "state": {
            "_model_module": "@jupyter-widgets/base",
            "_model_module_version": "1.2.0",
            "_model_name": "LayoutModel",
            "_view_count": null,
            "_view_module": "@jupyter-widgets/base",
            "_view_module_version": "1.2.0",
            "_view_name": "LayoutView",
            "align_content": null,
            "align_items": null,
            "align_self": null,
            "border": null,
            "bottom": null,
            "display": null,
            "flex": null,
            "flex_flow": null,
            "grid_area": null,
            "grid_auto_columns": null,
            "grid_auto_flow": null,
            "grid_auto_rows": null,
            "grid_column": null,
            "grid_gap": null,
            "grid_row": null,
            "grid_template_areas": null,
            "grid_template_columns": null,
            "grid_template_rows": null,
            "height": null,
            "justify_content": null,
            "justify_items": null,
            "left": null,
            "margin": null,
            "max_height": null,
            "max_width": null,
            "min_height": null,
            "min_width": null,
            "object_fit": null,
            "object_position": null,
            "order": null,
            "overflow": null,
            "overflow_x": null,
            "overflow_y": null,
            "padding": null,
            "right": null,
            "top": null,
            "visibility": null,
            "width": null
          }
        }
      }
    }
  },
  "cells": [
    {
      "cell_type": "markdown",
      "source": [
        "#Transfer in the two stream approximation\n",
        "A jupyter notebook to demonstrate the results of the two stream approximation for radiative transport."
      ],
      "metadata": {
        "id": "IYEnJ5eQwQNG"
      }
    },
    {
      "cell_type": "markdown",
      "source": [
        "We begin by importing the necessary libraries:"
      ],
      "metadata": {
        "id": "HYC5jhyLwc9p"
      }
    },
    {
      "cell_type": "code",
      "execution_count": null,
      "metadata": {
        "id": "9A9p4ve2wN-M"
      },
      "outputs": [],
      "source": [
        "import matplotlib.pyplot as plt\n",
        "import numpy as np"
      ]
    },
    {
      "cell_type": "markdown",
      "source": [
        "##The diffusion equation\n",
        "\n",
        "The following results come from the solution to the radiative diffusion equation:\n",
        "\\begin{gather}\n",
        "\\frac{1}{3} \\frac{\\partial^2 J_\\nu}{\\partial \\tau^2} =\\epsilon (J_\\nu-B_\\nu)\n",
        "\\end{gather}\n",
        "The two stream approximation allows for us to apply the boundary conditions:\n",
        "\n",
        "$\\frac{1}{\\sqrt{3}}\\frac{\\partial J_\\nu}{\\partial \\tau} = J$ ,     at $\\tau=0$\n",
        "\n",
        "$\\frac{1}{\\sqrt{3}}\\frac{\\partial J_\\nu}{\\partial \\tau} = -J$ ,     at $\\tau=\\tau_0$\n",
        "\n",
        "In the picture of a semi-infinite half space this $\\tau_0$ goes to infinity and we end up with the solution:\n",
        "\\begin{gather}\n",
        "J_\\nu = B_\\nu \\Big( 1-\\frac{e^{-\\tau_*}}{1+\\sqrt{\\epsilon}} \\Big)\n",
        "\\end{gather}\n",
        "\n",
        "With this result we can define functions (all normalized to $B_\\nu$) for the source function (S), flux (F), intensity out (I$_+$), and intensity in (I$_-$):"
      ],
      "metadata": {
        "id": "IxOXKIO7ynhM"
      }
    },
    {
      "cell_type": "code",
      "source": [
        "def J(tau,eps):\n",
        "  return 1 - np.exp(-tau)/(1+np.sqrt(eps))\n",
        "\n",
        "def S(tau,eps):\n",
        "  return (1-np.exp(-tau))+np.sqrt(eps)*np.exp(-tau)\n",
        "\n",
        "def F(tau,eps):\n",
        "  return 4*np.pi/np.sqrt(3) * np.sqrt(eps)/(1+np.sqrt(eps))*np.exp(-tau)\n",
        "\n",
        "def I_plus(tau,eps):\n",
        "  return 1- (1-np.sqrt(eps))/(1+np.sqrt(eps))*np.exp(-tau)\n",
        "\n",
        "def I_minus(tau,eps):\n",
        "  return 1-np.exp(-tau)"
      ],
      "metadata": {
        "id": "6zWVFqT7zPxs"
      },
      "execution_count": null,
      "outputs": []
    },
    {
      "cell_type": "markdown",
      "source": [
        "##Exploring intensity in and out with different scattering parameters\n",
        "The following widget can be used to explore how the intensity in and out in the two stream approximation changes with scattering.\n",
        "\n",
        "To see how this works, we note that the probability for scattering is: P=1-$\\epsilon$. Thus we expect that the outward radiation is that of a blackbody when no scattering is present ($\\epsilon$=1)."
      ],
      "metadata": {
        "id": "GX8zES-P4PPv"
      }
    },
    {
      "cell_type": "code",
      "source": [
        "from ipywidgets import interactive, widgets\n",
        "\n",
        "def f(eps):\n",
        "  tau_star = np.linspace(10,0)\n",
        "  tau = tau_star/np.sqrt(3. * eps)\n",
        "\n",
        "  plt.plot(tau, I_plus(tau,eps),label = '$I^{(+)}/B$')\n",
        "  plt.plot(tau, I_minus(tau,eps),label = '$I^{(-)}/B$')\n",
        "\n",
        "  plt.xlim([10,0])\n",
        "  plt.ylim([0,1])\n",
        "  plt.xlabel('$\\\\tau$')\n",
        "  plt.legend()\n",
        "  plt.title('$\\epsilon$= '+str(eps))\n",
        "  plt.show()\n",
        "\n",
        "interactive(f,eps = widgets.BoundedFloatText(value=.3, min=.1, max = 1, step=0.1))"
      ],
      "metadata": {
        "colab": {
          "base_uri": "https://localhost:8080/",
          "height": 504,
          "referenced_widgets": [
            "c78e7232fbe144e89fd219d7b9b0dfbd",
            "7eecb406be044ac589b56df6e0e57f19",
            "1cea45b45cc441489475d706548cb8d0",
            "8a4e9f5a8844477d813b3271d4e75d14",
            "bcefab3526eb4b6b869e219c0655b431",
            "1ea099793322456fa9d1becbaae17c82",
            "2bf4edea0fcb4a209531a89d51827a34"
          ]
        },
        "id": "HS8OYFzO6wxR",
        "outputId": "d0d0b9ad-bae6-4b74-83a5-5a69a854afb5"
      },
      "execution_count": null,
      "outputs": [
        {
          "output_type": "display_data",
          "data": {
            "text/plain": [
              "interactive(children=(BoundedFloatText(value=0.3, description='eps', max=1.0, min=0.1, step=0.1), Output()), _…"
            ],
            "application/vnd.jupyter.widget-view+json": {
              "version_major": 2,
              "version_minor": 0,
              "model_id": "c78e7232fbe144e89fd219d7b9b0dfbd"
            }
          },
          "metadata": {}
        }
      ]
    },
    {
      "cell_type": "markdown",
      "source": [
        "##Exploring the source as a function of scattering\n"
      ],
      "metadata": {
        "id": "CltFzO_n9G6V"
      }
    },
    {
      "cell_type": "markdown",
      "source": [
        "The following explores the source function and the moments of the intensity as a function of the scattering parameter $\\epsilon$:"
      ],
      "metadata": {
        "id": "t8E2LMS9CZNh"
      }
    },
    {
      "cell_type": "code",
      "source": [
        "def g(eps):\n",
        "  tau_star = np.linspace(10,0)\n",
        "  tau = tau_star / np.sqrt(3.*eps)\n",
        "\n",
        "  plt.plot(tau, S(tau,eps),label = 'S/B')\n",
        "  plt.plot(tau, J(tau,eps),label = 'J/B')\n",
        "  plt.plot(tau, F(tau,eps)/(4*np.pi),label = 'H/B')\n",
        "  plt.plot(tau, F(tau,eps),label = 'F/B')\n",
        "\n",
        "  plt.legend()\n",
        "  plt.xlim([10,0])\n",
        "  plt.ylim([0,1])\n",
        "  plt.xlabel('$\\\\tau$')\n",
        "\n",
        "  plt.title('$\\epsilon$ ='+str(eps))\n",
        "\n",
        "  plt.show()\n",
        "\n",
        "interactive(g, eps = widgets.BoundedFloatText(value=.3, min=0.1, max = 1, step=0.1))"
      ],
      "metadata": {
        "colab": {
          "base_uri": "https://localhost:8080/",
          "height": 504,
          "referenced_widgets": [
            "7add56f90c5449a0b32a20064c5cc72f",
            "63214ca7b689445ebb2c56dad3c2d2e0",
            "33beedf04f2d40f08197e52904b7642f",
            "8a4f2228d45f4f67b271df3040e3da5c",
            "ad93ffb5807e47c8b167364fe56cdb58",
            "d4b8420c1af94de0833fb245db5f8214",
            "432eb862580e41998ced7d1f8377a605"
          ]
        },
        "id": "RMrn3Qrx8Ot7",
        "outputId": "21b24397-ecaf-46e8-dc4f-425a1739d558"
      },
      "execution_count": null,
      "outputs": [
        {
          "output_type": "display_data",
          "data": {
            "text/plain": [
              "interactive(children=(BoundedFloatText(value=0.3, description='eps', max=1.0, min=0.1, step=0.1), Output()), _…"
            ],
            "application/vnd.jupyter.widget-view+json": {
              "version_major": 2,
              "version_minor": 0,
              "model_id": "7add56f90c5449a0b32a20064c5cc72f"
            }
          },
          "metadata": {}
        }
      ]
    }
  ]
}